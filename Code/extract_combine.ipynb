{
 "cells": [
  {
   "cell_type": "code",
   "execution_count": 46,
   "metadata": {},
   "outputs": [],
   "source": [
    "def combine_rgb(red, green, blue):\n",
    "    rgb = (red << 16) | (green << 8) | blue\n",
    "    return rgb\n",
    "\n",
    "def extract_rgb(rgb):\n",
    "    red = (rgb >> 16) & 0xFF\n",
    "    green = (rgb >> 8) & 0xFF\n",
    "    blue = rgb & 0xFF\n",
    "    return red, green, blue"
   ]
  },
  {
   "cell_type": "code",
   "execution_count": 47,
   "metadata": {},
   "outputs": [],
   "source": [
    "from PIL import Image\n",
    "import csv\n",
    "\n",
    "# Load the temperature color map image\n",
    "image = Image.open(\"../Data/Images/original/2020_LST.bmp\")\n",
    "\n",
    "# Define the temperature range and corresponding RGB values\n",
    "temperature_range = (0, 50)  # Temperature range from 0 to 50 degrees Celsius\n",
    "color_range = [(255, 0, 0), (255, 255, 0), (0, 255, 0)]  # RGB color gradient from red to yellow to green\n",
    "\n",
    "# Create a CSV file to store the temperature data\n",
    "csv_file = open(\"temperature_data.csv\", \"w\", newline=\"\")\n",
    "csv_writer = csv.writer(csv_file)\n",
    "csv_writer.writerow([\"X\", \"Y\", \"rgb\"])\n",
    "\n",
    "# Iterate over each pixel in the image and extract temperature data\n",
    "pixels = image.load()\n",
    "width, height = image.size\n",
    "for x in range(width):\n",
    "    for y in range(height):\n",
    "        r, g, b = pixels[x, y]\n",
    "        if r == 0 and g == 0 and b == 0:\n",
    "            temperature = -1\n",
    "        else:\n",
    "            # Calculate the temperature based on the color gradient\n",
    "            # progress = (r / 255)  # Calculate the progress within the gradient (0 to 1)\n",
    "            # temperature = temperature_range[0] + (temperature_range[1] - temperature_range[0]) * progress\n",
    "            temperature = combine_rgb(r, g, b)\n",
    "\n",
    "        # Save the temperature data along with the pixel position to the CSV file\n",
    "        csv_writer.writerow([x, y, int(temperature)])\n",
    "\n",
    "# Close the CSV file\n",
    "csv_file.close()\n"
   ]
  },
  {
   "cell_type": "code",
   "execution_count": 1,
   "metadata": {},
   "outputs": [
    {
     "ename": "ValueError",
     "evalue": "too many values to unpack (expected 3)",
     "output_type": "error",
     "traceback": [
      "\u001b[1;31m---------------------------------------------------------------------------\u001b[0m",
      "\u001b[1;31mValueError\u001b[0m                                Traceback (most recent call last)",
      "Cell \u001b[1;32mIn[1], line 14\u001b[0m\n\u001b[0;32m     12\u001b[0m     \u001b[39mnext\u001b[39m(reader)  \u001b[39m# Skip header row\u001b[39;00m\n\u001b[0;32m     13\u001b[0m     \u001b[39mfor\u001b[39;00m row \u001b[39min\u001b[39;00m reader:\n\u001b[1;32m---> 14\u001b[0m         x, y, temperature \u001b[39m=\u001b[39m \u001b[39mmap\u001b[39m(\u001b[39mint\u001b[39m, row)\n\u001b[0;32m     15\u001b[0m         temperature_data\u001b[39m.\u001b[39mappend((x, y, temperature))\n\u001b[0;32m     17\u001b[0m \u001b[39m# Find min and max temperature values\u001b[39;00m\n",
      "\u001b[1;31mValueError\u001b[0m: too many values to unpack (expected 3)"
     ]
    }
   ],
   "source": [
    "import numpy as np\n",
    "import csv\n",
    "from PIL import Image\n",
    "\n",
    "# Read temperature data from CSV file\n",
    "temperature_data = []\n",
    "path='./final/2000_og.csv'\n",
    "img_path='temperature_data.png'\n",
    "\n",
    "with open(path, 'r') as csvfile:\n",
    "    reader = csv.reader(csvfile)\n",
    "    next(reader)  # Skip header row\n",
    "    for row in reader:\n",
    "        x, y, temperature = map(int, row)\n",
    "        temperature_data.append((x, y, temperature))\n",
    "\n",
    "# Find min and max temperature values\n",
    "temperatures = [temp for _, _, temp in temperature_data]\n",
    "\n",
    "# find min temperaute but skip -1\n",
    "min_temp = min([temp for temp in temperatures if temp != -1])\n",
    "max_temp = max(temperatures)\n",
    "\n",
    "# Create an empty image array\n",
    "width = max(x for x, _, _ in temperature_data) + 1\n",
    "height = max(y for _, y, _ in temperature_data) + 1\n",
    "image_array = np.zeros((height, width, 3), dtype=np.uint8)\n",
    "\n",
    "# Convert temperature values back to color and fill the image array\n",
    "for x, y, temperature in temperature_data:\n",
    "    if temperature == -1:\n",
    "        color = (0,0,0)\n",
    "    else:\n",
    "        # Interpolate color based on temperature value\n",
    "        # normalized_temp = (temperature - min_temp) / (max_temp - min_temp)\n",
    "        # green = int(255 * (1 - normalized_temp))\n",
    "        # red = int(255 * normalized_temp)\n",
    "        # color = (red, green, 0)  # Set blue channel to 0\n",
    "        color = extract_rgb(temperature)\n",
    "\n",
    "    # Fill the corresponding pixel in the image array with the interpolated color\n",
    "    image_array[y, x] = color\n",
    "\n",
    "# Create and save the image\n",
    "image = Image.fromarray(image_array)\n",
    "image.save(img_path)\n",
    "\n",
    "print(\"Image restored from temperature data and saved as temp_color_map_restored.jpg\")"
   ]
  },
  {
   "cell_type": "code",
   "execution_count": 4,
   "metadata": {},
   "outputs": [
    {
     "data": {
      "text/plain": [
       "True"
      ]
     },
     "execution_count": 4,
     "metadata": {},
     "output_type": "execute_result"
    }
   ],
   "source": [
    "import cv2\n",
    "import numpy as np\n",
    "import csv\n",
    "\n",
    "# Initialize variables to store the maximum X and Y values\n",
    "max_x = 0\n",
    "max_y = 0\n",
    "\n",
    "# Load data from the CSV file and find the maximum X and Y values\n",
    "csv_filename = \"./final/2000_og.csv\"  # Replace with your CSV filename\n",
    "with open(csv_filename, newline='') as csvfile:\n",
    "    csv_reader = csv.reader(csvfile)\n",
    "    next(csv_reader)  # Skip the header row if it exists\n",
    "\n",
    "    for row in csv_reader:\n",
    "        x, y, *_ = map(int, row)\n",
    "        if x > max_x:\n",
    "            max_x = x\n",
    "        if y > max_y:\n",
    "            max_y = y\n",
    "\n",
    "# Add some padding to the maximum X and Y values (optional)\n",
    "padding = 10\n",
    "max_x += padding\n",
    "max_y += padding\n",
    "\n",
    "# Create an all-white image based on the calculated width and height\n",
    "image = np.ones((max_y, max_x, 3), np.uint8) * 255\n",
    "\n",
    "# Reload the CSV file and draw points on the image\n",
    "with open(csv_filename, newline='') as csvfile:\n",
    "    csv_reader = csv.reader(csvfile)\n",
    "    next(csv_reader)  # Skip the header row if it exists\n",
    "\n",
    "    for row in csv_reader:\n",
    "        x, y, r, g, b,_ = map(int, row)\n",
    "        color = (b, g, r)  # OpenCV uses BGR format\n",
    "        image[y, x] = color\n",
    "\n",
    "# Save the image\n",
    "output_filename = \"output_image.png\"  # Replace with your desired output image filename\n",
    "cv2.imwrite(output_filename, image)"
   ]
  },
  {
   "cell_type": "code",
   "execution_count": null,
   "metadata": {},
   "outputs": [],
   "source": []
  }
 ],
 "metadata": {
  "kernelspec": {
   "display_name": "Python 3",
   "language": "python",
   "name": "python3"
  },
  "language_info": {
   "codemirror_mode": {
    "name": "ipython",
    "version": 3
   },
   "file_extension": ".py",
   "mimetype": "text/x-python",
   "name": "python",
   "nbconvert_exporter": "python",
   "pygments_lexer": "ipython3",
   "version": "3.10.8"
  },
  "orig_nbformat": 4
 },
 "nbformat": 4,
 "nbformat_minor": 2
}
