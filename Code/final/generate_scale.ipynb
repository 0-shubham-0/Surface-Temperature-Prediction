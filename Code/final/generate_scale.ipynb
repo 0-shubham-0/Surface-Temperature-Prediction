{
 "cells": [
  {
   "cell_type": "code",
   "execution_count": 2,
   "metadata": {},
   "outputs": [],
   "source": [
    "from PIL import Image\n",
    "import csv\n",
    "\n",
    "# Load the temperature color map image\n",
    "image = Image.open(\"../../Data/Images/original/2020_LST.bmp\")"
   ]
  },
  {
   "cell_type": "code",
   "execution_count": 7,
   "metadata": {},
   "outputs": [
    {
     "data": {
      "text/plain": [
       "11"
      ]
     },
     "execution_count": 7,
     "metadata": {},
     "output_type": "execute_result"
    }
   ],
   "source": [
    "# Create a CSV file to store the temperature data\n",
    "csv_file = open(\"temperature_data.csv\", \"w\", newline=\"\")\n",
    "csv_writer = csv.writer(csv_file)\n",
    "csv_writer.writerow([\"X\", \"Y\", \"r\", \"g\", \"b\"])"
   ]
  },
  {
   "cell_type": "code",
   "execution_count": 8,
   "metadata": {},
   "outputs": [],
   "source": [
    "# Iterate over each pixel in the image and extract temperature data\n",
    "pixels = image.load()\n",
    "width, height = image.size\n",
    "for x in range(width):\n",
    "    for y in range(height):\n",
    "        r, g, b = pixels[x, y]\n",
    "        if r == 0 and g == 0 and b == 0:\n",
    "            temperature = -1\n",
    "            csv_writer.writerow([x, y, -1, -1, -1])\n",
    "        else:\n",
    "            # Save the temperature data along with the pixel position to the CSV file\n",
    "            csv_writer.writerow([x, y, r, g, 0])\n",
    "\n",
    "\n",
    "# Close the CSV file\n",
    "csv_file.close()"
   ]
  },
  {
   "cell_type": "code",
   "execution_count": 18,
   "metadata": {},
   "outputs": [
    {
     "data": {
      "text/html": [
       "<div>\n",
       "<style scoped>\n",
       "    .dataframe tbody tr th:only-of-type {\n",
       "        vertical-align: middle;\n",
       "    }\n",
       "\n",
       "    .dataframe tbody tr th {\n",
       "        vertical-align: top;\n",
       "    }\n",
       "\n",
       "    .dataframe thead th {\n",
       "        text-align: right;\n",
       "    }\n",
       "</style>\n",
       "<table border=\"1\" class=\"dataframe\">\n",
       "  <thead>\n",
       "    <tr style=\"text-align: right;\">\n",
       "      <th></th>\n",
       "      <th>r</th>\n",
       "      <th>g</th>\n",
       "      <th>b</th>\n",
       "    </tr>\n",
       "  </thead>\n",
       "  <tbody>\n",
       "    <tr>\n",
       "      <th>0</th>\n",
       "      <td>-1</td>\n",
       "      <td>-1</td>\n",
       "      <td>-1</td>\n",
       "    </tr>\n",
       "    <tr>\n",
       "      <th>1</th>\n",
       "      <td>77</td>\n",
       "      <td>179</td>\n",
       "      <td>0</td>\n",
       "    </tr>\n",
       "    <tr>\n",
       "      <th>2</th>\n",
       "      <td>90</td>\n",
       "      <td>186</td>\n",
       "      <td>0</td>\n",
       "    </tr>\n",
       "    <tr>\n",
       "      <th>3</th>\n",
       "      <td>63</td>\n",
       "      <td>171</td>\n",
       "      <td>0</td>\n",
       "    </tr>\n",
       "    <tr>\n",
       "      <th>4</th>\n",
       "      <td>103</td>\n",
       "      <td>194</td>\n",
       "      <td>0</td>\n",
       "    </tr>\n",
       "  </tbody>\n",
       "</table>\n",
       "</div>"
      ],
      "text/plain": [
       "     r    g  b\n",
       "0   -1   -1 -1\n",
       "1   77  179  0\n",
       "2   90  186  0\n",
       "3   63  171  0\n",
       "4  103  194  0"
      ]
     },
     "execution_count": 18,
     "metadata": {},
     "output_type": "execute_result"
    }
   ],
   "source": [
    "import pandas as pd\n",
    "import colorsys\n",
    "df = pd.read_csv('temperature_data.csv')\n",
    "rgb_df = df.iloc[:, 2:5]\n",
    "rgb_df = rgb_df.drop_duplicates()\n",
    "rgb_df = rgb_df.reset_index(drop=True)\n",
    "\n",
    "rgb_df.head()\n"
   ]
  },
  {
   "cell_type": "code",
   "execution_count": 19,
   "metadata": {},
   "outputs": [
    {
     "data": {
      "text/plain": [
       "0                     (0.0, 0.0, -1)\n",
       "1     (0.2616387337057728, 1.0, 179)\n",
       "2    (0.25268817204301075, 1.0, 186)\n",
       "3     (0.2719298245614035, 1.0, 171)\n",
       "4     (0.2448453608247423, 1.0, 194)\n",
       "dtype: object"
      ]
     },
     "execution_count": 19,
     "metadata": {},
     "output_type": "execute_result"
    }
   ],
   "source": [
    "hsv_df = rgb_df.apply(lambda row: colorsys.rgb_to_hsv(row['r'], row['g'], row['b']), axis=1)\n",
    "\n",
    "hsv_df.head()"
   ]
  },
  {
   "cell_type": "code",
   "execution_count": 20,
   "metadata": {},
   "outputs": [
    {
     "name": "stdout",
     "output_type": "stream",
     "text": [
      "      r    g  b         H    S    V\n",
      "0    -1   -1 -1  0.000000  0.0   -1\n",
      "25  255    0  0  0.000000  1.0  255\n",
      "24  255   21  0  0.013725  1.0  255\n",
      "23  255   38  0  0.024837  1.0  255\n",
      "22  255   60  0  0.039216  1.0  255\n",
      "21  255   81  0  0.052941  1.0  255\n",
      "20  255  102  0  0.066667  1.0  255\n",
      "19  255  119  0  0.077778  1.0  255\n",
      "18  255  140  0  0.091503  1.0  255\n",
      "17  255  162  0  0.105882  1.0  255\n",
      "16  255  179  0  0.116993  1.0  255\n",
      "15  255  200  0  0.130719  1.0  255\n",
      "14  255  221  0  0.144444  1.0  255\n",
      "13  255  242  0  0.158170  1.0  255\n",
      "12  246  250  0  0.169333  1.0  250\n",
      "11  226  242  0  0.177686  1.0  242\n",
      "10  209  237  0  0.186357  1.0  237\n",
      "8   187  230  0  0.197826  1.0  230\n",
      "9   170  222  0  0.205706  1.0  222\n",
      "6   154  214  0  0.213396  1.0  214\n",
      "7   136  209  0  0.224880  1.0  209\n",
      "5   121  201  0  0.233002  1.0  201\n",
      "4   103  194  0  0.244845  1.0  194\n",
      "2    90  186  0  0.252688  1.0  186\n",
      "1    77  179  0  0.261639  1.0  179\n",
      "3    63  171  0  0.271930  1.0  171\n",
      "26   56  168  0  0.277778  1.0  168\n"
     ]
    }
   ],
   "source": [
    "# Add the HSV values to the DataFrame\n",
    "rgb_df['H'] = hsv_df.apply(lambda x: x[0])\n",
    "rgb_df['S'] = hsv_df.apply(lambda x: x[1])\n",
    "rgb_df['V'] = hsv_df.apply(lambda x: x[2])\n",
    "\n",
    "# Sort the DataFrame by hue (H) values\n",
    "sorted_rgb_df = rgb_df.sort_values(by='H')\n",
    "\n",
    "# Print the sorted RGB DataFrame\n",
    "print(sorted_rgb_df)"
   ]
  },
  {
   "cell_type": "code",
   "execution_count": 1,
   "metadata": {},
   "outputs": [
    {
     "data": {
      "image/png": "[encoded data removed]",
      "text/plain": [
       "<Figure size 600x100 with 1 Axes>"
      ]
     },
     "metadata": {},
     "output_type": "display_data"
    }
   ],
   "source": [
    "import matplotlib.pyplot as plt\n",
    "import matplotlib.colors as mcolors\n",
    "import numpy as np\n",
    "\n",
    "# Create a figure and axis for the legend\n",
    "fig, ax = plt.subplots(figsize=(6, 1))\n",
    "\n",
    "# Create a custom colormap with a gradient from red to yellow to green (without blue)\n",
    "colors = ['green', 'yellow' , 'red']\n",
    "cmap = mcolors.LinearSegmentedColormap.from_list('custom', colors)\n",
    "\n",
    "# Create a colorbar with the temperature range from 0 to 50 degrees\n",
    "norm = plt.Normalize(0, 100)\n",
    "cb = plt.colorbar(plt.cm.ScalarMappable(norm=norm, cmap=cmap),\n",
    "                  cax=ax, orientation='horizontal')\n",
    "\n",
    "# Set the colorbar label\n",
    "cb.set_label('Temperature (°C)')\n",
    "\n",
    "# Show the plot\n",
    "plt.show()\n"
   ]
  },
  {
   "cell_type": "code",
   "execution_count": 6,
   "metadata": {},
   "outputs": [],
   "source": [
    "import pandas as pd\n",
    "import numpy as np\n",
    "import matplotlib.colors as mcolors\n",
    "\n",
    "# Create a custom colormap with a gradient from red to yellow to green (without blue)\n",
    "colors = ['green', 'yellow' , 'red']\n",
    "cmap = mcolors.LinearSegmentedColormap.from_list('custom', colors)\n",
    "\n",
    "# Generate the RGB values and corresponding temperatures\n",
    "temperatures = np.arange(1, 100)\n",
    "rgb_values = cmap(temperatures / 99.0)[:, :3] * 255  # Scale to RGB range (0-255)\n",
    "\n",
    "# Create a DataFrame with the RGB and temperature values\n",
    "data = {'R': rgb_values[:, 0], 'G': rgb_values[:, 1], 'B': rgb_values[:, 2], 'Temperature': temperatures}\n",
    "df = pd.DataFrame(data)\n",
    "\n",
    "df['R'] = df['R'].astype(int)\n",
    "df['G'] = df['G'].astype(int)\n",
    "df['B'] = df['B'].astype(int)\n",
    "# Save the DataFrame to a CSV file\n",
    "df.to_csv('rgb_temperature_values.csv', index=False)\n"
   ]
  },
  {
   "cell_type": "code",
   "execution_count": null,
   "metadata": {},
   "outputs": [],
   "source": []
  }
 ],
 "metadata": {
  "kernelspec": {
   "display_name": "Python 3",
   "language": "python",
   "name": "python3"
  },
  "language_info": {
   "codemirror_mode": {
    "name": "ipython",
    "version": 3
   },
   "file_extension": ".py",
   "mimetype": "text/x-python",
   "name": "python",
   "nbconvert_exporter": "python",
   "pygments_lexer": "ipython3",
   "version": "3.10.8"
  },
  "orig_nbformat": 4
 },
 "nbformat": 4,
 "nbformat_minor": 2
}
