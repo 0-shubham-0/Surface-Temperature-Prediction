{
 "cells": [
  {
   "cell_type": "code",
   "execution_count": 3,
   "metadata": {},
   "outputs": [
    {
     "name": "stdout",
     "output_type": "stream",
     "text": [
      "Temperature data extracted and saved to temperature_data.csv\n"
     ]
    }
   ],
   "source": [
    "import numpy as np\n",
    "import csv\n",
    "from PIL import Image\n"
   ]
  },
  {
   "cell_type": "code",
   "execution_count": 4,
   "metadata": {},
   "outputs": [],
   "source": [
    "# Open the temperature color map image\n",
    "image = Image.open('../Data/Images/original/2020_LST.bmp')\n",
    "\n",
    "# Convert the image to numpy array\n",
    "image_array = np.array(image)\n",
    "\n",
    "# Define the temperature range\n",
    "min_temp = 10  # Minimum temperature in degrees Celsius\n",
    "max_temp = 50  # Maximum temperature in degrees Celsius"
   ]
  },
  {
   "cell_type": "code",
   "execution_count": 5,
   "metadata": {},
   "outputs": [
    {
     "name": "stdout",
     "output_type": "stream",
     "text": [
      "Temperature data extracted and saved to temperature_data.csv\n"
     ]
    }
   ],
   "source": [
    "# Convert RGB to temperature values\n",
    "temperature_data = []\n",
    "height, width, _ = image_array.shape\n",
    "for y in range(height):\n",
    "    for x in range(width):\n",
    "        pixel = image_array[y, x]\n",
    "         # Interpolate temperature value based on pixel color\n",
    "        r, g, _ = pixel\n",
    "        if [r,g] == [0,0]:\n",
    "            temperature = -1\n",
    "            temperature_data.append([x, y, temperature])  # Save spatial coordinates and temperature\n",
    "        else:\n",
    "            temperature = min_temp + (max_temp - min_temp) * (1 - g / 255)\n",
    "            temperature_data.append([x, y, int(temperature)])  # Save spatial coordinates and temperature\n",
    "\n",
    "# Save temperature data to CSV file\n",
    "with open('../Data/csv/temperature_data.csv', 'w', newline='') as csvfile:\n",
    "    writer = csv.writer(csvfile)\n",
    "    writer.writerow(['X', 'Y', 'Temperature'])  # Header row\n",
    "    writer.writerows(temperature_data)\n",
    "\n",
    "print(\"Temperature data extracted and saved to temperature_data.csv\")"
   ]
  },
  {
   "cell_type": "code",
   "execution_count": null,
   "metadata": {},
   "outputs": [],
   "source": []
  }
 ],
 "metadata": {
  "kernelspec": {
   "display_name": "Python 3",
   "language": "python",
   "name": "python3"
  },
  "language_info": {
   "codemirror_mode": {
    "name": "ipython",
    "version": 3
   },
   "file_extension": ".py",
   "mimetype": "text/x-python",
   "name": "python",
   "nbconvert_exporter": "python",
   "pygments_lexer": "ipython3",
   "version": "3.10.8"
  },
  "orig_nbformat": 4
 },
 "nbformat": 4,
 "nbformat_minor": 2
}
