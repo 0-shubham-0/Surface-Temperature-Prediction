{
 "cells": [
  {
   "cell_type": "code",
   "execution_count": 1,
   "metadata": {},
   "outputs": [],
   "source": [
    "import numpy as np\n",
    "import csv\n",
    "from PIL import Image\n"
   ]
  },
  {
   "cell_type": "code",
   "execution_count": 3,
   "metadata": {},
   "outputs": [],
   "source": [
    "# Open the temperature color map image\n",
    "image1 = Image.open('../../Data/Images/original/2020_LST.bmp')\n",
    "image2 = Image.open('../../Data/Images/original/2020_LST.bmp')\n",
    "image3 = Image.open('../../Data/Images/original/2020_LST.bmp')\n",
    "\n",
    "# Convert the image to numpy array\n",
    "image_array1 = np.array(image1)\n",
    "image_array2 = np.array(image1)\n",
    "image_array3 = np.array(image1)\n",
    "\n",
    "# Define the temperature range\n",
    "min_temp = 10  # Minimum temperature in degrees Celsius\n",
    "max_temp = 50  # Maximum temperature in degrees Celsius"
   ]
  },
  {
   "cell_type": "code",
   "execution_count": 5,
   "metadata": {},
   "outputs": [
    {
     "data": {
      "text/plain": [
       "255"
      ]
     },
     "execution_count": 5,
     "metadata": {},
     "output_type": "execute_result"
    }
   ],
   "source": [
    "# Convert RGB to temperature values\n",
    "temperature_data = []\n",
    "height, width, _ = image_array1.shape\n",
    "max_r = 0\n",
    "max_g = 0\n",
    "min_r = 255\n",
    "min_g = 255\n",
    "for y in range(height):\n",
    "    for x in range(width):\n",
    "        pixel = image_array1[y, x]\n",
    "         # Interpolate temperature value based on pixel color\n",
    "        r, g, b = pixel\n",
    "        if (r!=0 and g!=0 and b!=0) and r == 0:\n",
    "            min_g = min(min_g, g)\n",
    "\n",
    "min_g"
   ]
  },
  {
   "cell_type": "code",
   "execution_count": 6,
   "metadata": {},
   "outputs": [
    {
     "name": "stdout",
     "output_type": "stream",
     "text": [
      "Coordinates of the darkest green pixel: (0, 0)\n"
     ]
    }
   ],
   "source": [
    "import cv2\n",
    "import numpy as np\n",
    "\n",
    "def find_darkest_green(image):\n",
    "    # Convert image to HSV color space\n",
    "    hsv_image = cv2.cvtColor(image, cv2.COLOR_BGR2HSV)\n",
    "\n",
    "    # Define lower and upper bounds for the green color range in HSV\n",
    "    lower_green = np.array([35, 50, 50])\n",
    "    upper_green = np.array([85, 255, 255])\n",
    "\n",
    "    # Create a mask for pixels within the green color range\n",
    "    mask = cv2.inRange(hsv_image, lower_green, upper_green)\n",
    "\n",
    "    # Apply the mask to extract the green pixels from the image\n",
    "    green_pixels = cv2.bitwise_and(image, image, mask=mask)\n",
    "\n",
    "    # Convert the green pixels to grayscale\n",
    "    gray = cv2.cvtColor(green_pixels, cv2.COLOR_BGR2GRAY)\n",
    "\n",
    "    # Find the coordinates of the darkest green pixel\n",
    "    min_val, _, min_loc, _ = cv2.minMaxLoc(gray)\n",
    "\n",
    "    return min_loc\n",
    "\n",
    "# Example usage\n",
    "image = cv2.imread('../../Data/Images/original/2020_LST.bmp')  # Replace 'path_to_image.jpg' with the actual image file path\n",
    "\n",
    "# Find the darkest green pixel in the image\n",
    "darkest_green_pixel = find_darkest_green(image)\n",
    "\n",
    "print(\"Coordinates of the darkest green pixel:\", darkest_green_pixel)\n"
   ]
  },
  {
   "cell_type": "code",
   "execution_count": 10,
   "metadata": {},
   "outputs": [],
   "source": [
    "# Convert RGB to temperature values\n",
    "temperature_data = []\n",
    "height, width, _ = image_array1.shape\n",
    "max_r = 0\n",
    "max_g = 0\n",
    "for y in range(height):\n",
    "    for x in range(width):\n",
    "        pixel = image_array1[y, x]\n",
    "         # Interpolate temperature value based on pixel color\n",
    "        r, g, _ = pixel\n",
    "        if g == 250:\n",
    "            max_r = max(max_r, r)\n",
    "        if [r,g] == [0,0]:\n",
    "            temperature = -1\n",
    "            temperature_data.append([x, y, temperature])  # Save spatial coordinates and temperature\n",
    "        else:\n",
    "            temperature = min_temp + (max_temp - min_temp) * (1 - g / 255)\n",
    "            temperature_data.append([x, y, int(temperature)])  # Save spatial coordinates and temperature\n"
   ]
  },
  {
   "cell_type": "code",
   "execution_count": 11,
   "metadata": {},
   "outputs": [
    {
     "data": {
      "text/plain": [
       "(246, 0)"
      ]
     },
     "execution_count": 11,
     "metadata": {},
     "output_type": "execute_result"
    }
   ],
   "source": [
    "max_r, max_g"
   ]
  },
  {
   "cell_type": "code",
   "execution_count": 5,
   "metadata": {},
   "outputs": [
    {
     "name": "stdout",
     "output_type": "stream",
     "text": [
      "Temperature data extracted and saved to temperature_data.csv\n"
     ]
    }
   ],
   "source": [
    "\n",
    "# Save temperature data to CSV file\n",
    "with open('../Data/csv/temperature_data.csv', 'w', newline='') as csvfile:\n",
    "    writer = csv.writer(csvfile)\n",
    "    writer.writerow(['X', 'Y', 'Temperature'])  # Header row\n",
    "    writer.writerows(temperature_data)\n",
    "\n",
    "print(\"Temperature data extracted and saved to temperature_data.csv\")"
   ]
  },
  {
   "cell_type": "code",
   "execution_count": null,
   "metadata": {},
   "outputs": [],
   "source": []
  }
 ],
 "metadata": {
  "kernelspec": {
   "display_name": "Python 3",
   "language": "python",
   "name": "python3"
  },
  "language_info": {
   "codemirror_mode": {
    "name": "ipython",
    "version": 3
   },
   "file_extension": ".py",
   "mimetype": "text/x-python",
   "name": "python",
   "nbconvert_exporter": "python",
   "pygments_lexer": "ipython3",
   "version": "3.10.8"
  },
  "orig_nbformat": 4
 },
 "nbformat": 4,
 "nbformat_minor": 2
}
