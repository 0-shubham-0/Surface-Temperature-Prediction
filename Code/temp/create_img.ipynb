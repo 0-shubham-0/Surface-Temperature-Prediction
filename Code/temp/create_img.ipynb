{
 "cells": [
  {
   "cell_type": "code",
   "execution_count": 1,
   "metadata": {},
   "outputs": [],
   "source": [
    "import numpy as np\n",
    "import csv\n",
    "from PIL import Image"
   ]
  },
  {
   "cell_type": "code",
   "execution_count": 3,
   "metadata": {},
   "outputs": [],
   "source": [
    "# Read temperature data from CSV file\n",
    "temperature_data = []\n",
    "path='../Data/csv/temperature_data.csv'\n",
    "img_path='../Data/img/temperature_data.png'\n",
    "\n",
    "with open(path, 'r') as csvfile:\n",
    "    reader = csv.reader(csvfile)\n",
    "    next(reader)  # Skip header row\n",
    "    for row in reader:\n",
    "        x, y, temperature = map(int, row)\n",
    "        temperature_data.append((x, y, temperature))\n"
   ]
  },
  {
   "cell_type": "code",
   "execution_count": 5,
   "metadata": {},
   "outputs": [],
   "source": [
    "# Find min and max temperature values\n",
    "temperatures = [temp for _, _, temp in temperature_data]\n",
    "\n",
    "# find min temperaute but skip -1\n",
    "min_temp = min([temp for temp in temperatures if temp != -1])\n",
    "max_temp = max(temperatures)\n",
    "\n",
    "# Create an empty image array\n",
    "width = max(x for x, _, _ in temperature_data) + 1\n",
    "height = max(y for _, y, _ in temperature_data) + 1\n",
    "image_array = np.zeros((height, width, 3), dtype=np.uint8)"
   ]
  },
  {
   "cell_type": "code",
   "execution_count": null,
   "metadata": {},
   "outputs": [],
   "source": [
    "# Convert temperature values back to color and fill the image array\n",
    "for x, y, temperature in temperature_data:\n",
    "    if temperature == -1:\n",
    "        color = (0,0,0)\n",
    "    else:\n",
    "        # Interpolate color based on temperature value\n",
    "        normalized_temp = (temperature - min_temp) / (max_temp - min_temp)\n",
    "        green = int(255 * (1 - normalized_temp))\n",
    "        red = int(255 * normalized_temp)\n",
    "        color = (red, green, 0)  # Set blue channel to 0\n",
    "\n",
    "    # Fill the corresponding pixel in the image array with the interpolated color\n",
    "    image_array[y, x] = color\n",
    "\n",
    "# Create and save the image\n",
    "image = Image.fromarray(image_array)\n",
    "image.save(img_path)\n",
    "\n",
    "print(\"Image restored from temperature data and saved as temp_color_map_restored.jpg\")"
   ]
  },
  {
   "cell_type": "code",
   "execution_count": null,
   "metadata": {},
   "outputs": [],
   "source": []
  }
 ],
 "metadata": {
  "kernelspec": {
   "display_name": "Python 3",
   "language": "python",
   "name": "python3"
  },
  "language_info": {
   "codemirror_mode": {
    "name": "ipython",
    "version": 3
   },
   "file_extension": ".py",
   "mimetype": "text/x-python",
   "name": "python",
   "nbconvert_exporter": "python",
   "pygments_lexer": "ipython3",
   "version": "3.10.8"
  },
  "orig_nbformat": 4
 },
 "nbformat": 4,
 "nbformat_minor": 2
}
